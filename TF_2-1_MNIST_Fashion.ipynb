{
 "cells": [
  {
   "cell_type": "markdown",
   "metadata": {},
   "source": [
    "### Using MNIST Fashion dataset we are building a model to recognize  the gien input image"
   ]
  },
  {
   "cell_type": "code",
   "execution_count": 3,
   "metadata": {},
   "outputs": [],
   "source": [
    "import tensorflow as tf\n",
    "from tensorflow import keras\n",
    "import matplotlib.pyplot as plt"
   ]
  },
  {
   "cell_type": "markdown",
   "metadata": {},
   "source": [
    "Importing MNIST Fashion datasets APL"
   ]
  },
  {
   "cell_type": "code",
   "execution_count": 4,
   "metadata": {},
   "outputs": [],
   "source": [
    "mnist = tf.keras.datasets.fashion_mnist"
   ]
  },
  {
   "cell_type": "code",
   "execution_count": 5,
   "metadata": {},
   "outputs": [],
   "source": [
    "(train_images, train_labels),(test_images,test_labels) = mnist.load_data()"
   ]
  },
  {
   "cell_type": "markdown",
   "metadata": {},
   "source": [
    "Let us look at any sample image from our imported mnist"
   ]
  },
  {
   "cell_type": "code",
   "execution_count": 6,
   "metadata": {},
   "outputs": [
    {
     "name": "stdout",
     "output_type": "stream",
     "text": [
      "2\n"
     ]
    },
    {
     "data": {
      "image/png": "[encoded data removed]",
      "text/plain": [
       "<Figure size 432x288 with 1 Axes>"
      ]
     },
     "metadata": {
      "needs_background": "light"
     },
     "output_type": "display_data"
    }
   ],
   "source": [
    "plt.imshow(train_images[54])\n",
    "print(train_labels[54])"
   ]
  },
  {
   "cell_type": "markdown",
   "metadata": {},
   "source": [
    "Lets Normalize our data, as NN works better with normalized data"
   ]
  },
  {
   "cell_type": "code",
   "execution_count": 7,
   "metadata": {},
   "outputs": [],
   "source": [
    "train_images_1 = train_images/255\n",
    "test_images_1 = test_images/255"
   ]
  },
  {
   "cell_type": "markdown",
   "metadata": {},
   "source": [
    "Lets create the model"
   ]
  },
  {
   "cell_type": "code",
   "execution_count": 8,
   "metadata": {},
   "outputs": [
    {
     "name": "stdout",
     "output_type": "stream",
     "text": [
      "[[0.         0.         0.         0.         0.         0.\n",
      "  0.         0.         0.         0.         0.03137255 0.14901961\n",
      "  0.2627451  0.30196078 0.27058824 0.28235294 0.23137255 0.09803922\n",
      "  0.01960784 0.         0.         0.         0.         0.\n",
      "  0.         0.         0.         0.        ]\n",
      " [0.         0.         0.         0.         0.         0.\n",
      "  0.         0.         0.         0.10588235 0.51372549 0.58823529\n",
      "  0.40392157 0.43529412 0.45490196 0.50196078 0.56862745 0.61568627\n",
      "  0.7254902  0.57254902 0.21176471 0.         0.         0.00392157\n",
      "  0.         0.         0.         0.        ]\n",
      " [0.         0.         0.         0.         0.         0.\n",
      "  0.         0.         0.         0.29019608 0.43529412 0.45490196\n",
      "  0.6745098  0.67843137 0.61960784 0.63921569 0.54117647 0.38039216\n",
      "  0.32156863 0.2745098  0.29019608 0.         0.         0.00392157\n",
      "  0.         0.         0.         0.        ]\n",
      " [0.         0.         0.         0.         0.         0.\n",
      "  0.00392157 0.00392157 0.         0.25098039 0.40392157 0.16470588\n",
      "  0.42745098 0.48235294 0.32156863 0.25490196 0.16862745 0.15686275\n",
      "  0.19607843 0.29411765 0.25490196 0.         0.         0.00392157\n",
      "  0.         0.         0.         0.        ]\n",
      " [0.         0.         0.         0.         0.         0.\n",
      "  0.         0.         0.         0.42352941 0.79215686 0.51372549\n",
      "  0.48235294 0.22352941 0.12941176 0.18431373 0.20392157 0.24313725\n",
      "  0.25098039 0.31764706 0.18431373 0.         0.         0.\n",
      "  0.         0.         0.         0.        ]\n",
      " [0.         0.         0.         0.         0.         0.\n",
      "  0.         0.02352941 0.18823529 0.36862745 0.41568627 0.40392157\n",
      "  0.27058824 0.29411765 0.29019608 0.27058824 0.28235294 0.3372549\n",
      "  0.29411765 0.4627451  0.2627451  0.         0.         0.00392157\n",
      "  0.         0.         0.         0.        ]\n",
      " [0.         0.         0.         0.         0.         0.\n",
      "  0.         0.32156863 0.29411765 0.21176471 0.2627451  0.32156863\n",
      "  0.40392157 0.36862745 0.36078431 0.35686275 0.35686275 0.32156863\n",
      "  0.19607843 0.14901961 0.29411765 0.23137255 0.         0.\n",
      "  0.         0.         0.         0.        ]\n",
      " [0.         0.         0.         0.         0.         0.\n",
      "  0.18431373 0.39607843 0.23529412 0.21176471 0.28235294 0.21176471\n",
      "  0.19607843 0.18823529 0.19607843 0.21568627 0.19607843 0.15686275\n",
      "  0.18823529 0.21176471 0.16470588 0.35686275 0.14509804 0.\n",
      "  0.         0.         0.         0.        ]\n",
      " [0.         0.         0.         0.         0.         0.\n",
      "  0.23529412 0.34901961 0.30980392 0.23529412 0.29019608 0.25490196\n",
      "  0.27058824 0.24313725 0.23529412 0.21176471 0.19607843 0.12941176\n",
      "  0.1254902  0.19607843 0.21176471 0.34901961 0.23529412 0.\n",
      "  0.         0.         0.         0.        ]\n",
      " [0.         0.         0.         0.         0.         0.04313725\n",
      "  0.38039216 0.24313725 0.36078431 0.28235294 0.23137255 0.22352941\n",
      "  0.21568627 0.25098039 0.25098039 0.21176471 0.09803922 0.35686275\n",
      "  0.38823529 0.08235294 0.23529412 0.27058824 0.28235294 0.\n",
      "  0.         0.         0.         0.        ]\n",
      " [0.         0.         0.         0.         0.         0.32156863\n",
      "  0.42352941 0.16470588 0.45490196 0.3372549  0.20392157 0.17647059\n",
      "  0.15686275 0.17647059 0.23137255 0.24313725 0.09019608 0.52941176\n",
      "  0.65882353 0.07058824 0.29411765 0.22352941 0.29411765 0.01960784\n",
      "  0.         0.         0.         0.        ]\n",
      " [0.         0.         0.         0.         0.         0.11764706\n",
      "  0.32156863 0.18823529 0.58039216 0.41568627 0.25490196 0.20392157\n",
      "  0.20392157 0.21176471 0.22352941 0.23137255 0.25490196 0.1372549\n",
      "  0.08235294 0.20392157 0.32941176 0.23137255 0.31764706 0.07058824\n",
      "  0.         0.         0.         0.        ]\n",
      " [0.         0.         0.         0.         0.         0.1372549\n",
      "  0.32941176 0.21176471 0.62745098 0.52156863 0.30980392 0.28235294\n",
      "  0.2745098  0.2627451  0.24313725 0.25098039 0.27058824 0.27058824\n",
      "  0.2627451  0.25490196 0.4627451  0.22352941 0.29411765 0.12941176\n",
      "  0.         0.         0.         0.        ]\n",
      " [0.         0.         0.         0.         0.         0.16862745\n",
      "  0.30980392 0.19607843 0.68627451 0.50980392 0.32941176 0.30980392\n",
      "  0.25098039 0.24313725 0.24313725 0.24313725 0.23529412 0.23137255\n",
      "  0.18823529 0.25490196 0.6        0.23137255 0.30980392 0.15686275\n",
      "  0.         0.         0.         0.        ]\n",
      " [0.         0.         0.         0.         0.         0.21176471\n",
      "  0.29411765 0.27058824 0.50980392 0.48235294 0.38039216 0.29019608\n",
      "  0.2745098  0.23137255 0.23529412 0.24313725 0.23529412 0.23137255\n",
      "  0.23137255 0.23137255 0.3372549  0.31764706 0.2745098  0.19607843\n",
      "  0.         0.         0.         0.        ]\n",
      " [0.         0.         0.         0.         0.         0.24313725\n",
      "  0.28235294 0.34901961 0.23529412 0.44313725 0.42352941 0.30980392\n",
      "  0.29019608 0.25490196 0.2745098  0.23529412 0.22352941 0.21176471\n",
      "  0.2627451  0.19607843 0.25490196 0.39607843 0.23529412 0.21568627\n",
      "  0.         0.         0.         0.        ]\n",
      " [0.         0.         0.         0.         0.         0.25098039\n",
      "  0.28235294 0.40392157 0.19607843 0.37647059 0.44705882 0.3372549\n",
      "  0.3372549  0.25490196 0.25098039 0.2627451  0.27058824 0.23137255\n",
      "  0.2627451  0.18431373 0.21176471 0.40392157 0.25098039 0.25490196\n",
      "  0.         0.         0.         0.        ]\n",
      " [0.         0.         0.         0.         0.         0.25098039\n",
      "  0.25490196 0.40392157 0.11764706 0.36078431 0.49411765 0.38039216\n",
      "  0.32941176 0.30980392 0.24313725 0.25098039 0.23137255 0.18431373\n",
      "  0.23137255 0.18431373 0.18431373 0.41568627 0.25098039 0.28235294\n",
      "  0.         0.         0.         0.        ]\n",
      " [0.         0.         0.         0.         0.         0.2627451\n",
      "  0.29019608 0.42745098 0.07058824 0.36862745 0.48627451 0.34901961\n",
      "  0.35686275 0.31764706 0.27058824 0.22352941 0.23529412 0.22352941\n",
      "  0.28235294 0.18823529 0.14509804 0.43529412 0.23137255 0.25490196\n",
      "  0.         0.         0.         0.        ]\n",
      " [0.         0.         0.         0.         0.         0.29019608\n",
      "  0.24313725 0.44705882 0.07843137 0.38039216 0.42745098 0.32941176\n",
      "  0.3372549  0.29411765 0.23529412 0.24313725 0.22352941 0.22352941\n",
      "  0.25098039 0.20392157 0.10588235 0.4745098  0.25098039 0.29019608\n",
      "  0.         0.         0.         0.        ]\n",
      " [0.         0.         0.         0.         0.         0.30980392\n",
      "  0.28235294 0.43529412 0.14509804 0.46666667 0.34117647 0.34117647\n",
      "  0.32156863 0.31764706 0.29019608 0.2627451  0.23529412 0.23137255\n",
      "  0.2627451  0.21568627 0.17647059 0.46666667 0.27058824 0.30980392\n",
      "  0.         0.         0.         0.        ]\n",
      " [0.         0.         0.         0.         0.         0.29411765\n",
      "  0.28235294 0.39607843 0.23137255 0.45490196 0.30196078 0.35686275\n",
      "  0.35686275 0.35686275 0.32941176 0.28235294 0.29411765 0.29019608\n",
      "  0.23137255 0.23529412 0.35686275 0.41568627 0.27058824 0.28235294\n",
      "  0.         0.         0.         0.        ]\n",
      " [0.         0.         0.         0.         0.         0.30980392\n",
      "  0.25490196 0.35686275 0.34901961 0.4627451  0.32941176 0.32156863\n",
      "  0.30980392 0.30196078 0.29411765 0.2745098  0.25490196 0.23137255\n",
      "  0.20392157 0.20392157 0.20392157 0.45490196 0.27058824 0.30196078\n",
      "  0.         0.         0.         0.        ]\n",
      " [0.         0.         0.         0.         0.         0.36078431\n",
      "  0.30980392 0.36862745 0.40392157 0.23529412 0.24313725 0.2745098\n",
      "  0.2745098  0.27058824 0.24313725 0.2745098  0.2627451  0.21568627\n",
      "  0.16862745 0.14901961 0.23137255 0.42745098 0.29411765 0.32941176\n",
      "  0.         0.         0.         0.        ]\n",
      " [0.         0.         0.         0.         0.         0.30980392\n",
      "  0.2745098  0.37647059 0.31764706 0.56862745 0.31764706 0.36078431\n",
      "  0.38039216 0.38039216 0.36862745 0.36078431 0.34901961 0.34117647\n",
      "  0.3372549  0.3372549  0.32156863 0.40392157 0.27058824 0.29019608\n",
      "  0.         0.         0.         0.        ]\n",
      " [0.         0.         0.         0.         0.         0.37647059\n",
      "  0.4627451  0.34901961 0.27058824 1.         0.40784314 0.41568627\n",
      "  0.41568627 0.40784314 0.42352941 0.40784314 0.40392157 0.38823529\n",
      "  0.36862745 0.42745098 0.2745098  0.36078431 0.44705882 0.31764706\n",
      "  0.         0.         0.         0.        ]\n",
      " [0.         0.         0.         0.         0.         0.29019608\n",
      "  0.44313725 0.2627451  0.17647059 0.80784314 0.29411765 0.35686275\n",
      "  0.36078431 0.35686275 0.35686275 0.34901961 0.3372549  0.34901961\n",
      "  0.34117647 0.36862745 0.18431373 0.36862745 0.48627451 0.28235294\n",
      "  0.         0.         0.         0.        ]\n",
      " [0.         0.         0.         0.         0.         0.29019608\n",
      "  0.43529412 0.31764706 0.         0.         0.         0.\n",
      "  0.         0.         0.         0.         0.         0.\n",
      "  0.         0.         0.         0.3372549  0.4627451  0.2627451\n",
      "  0.         0.         0.         0.        ]]\n"
     ]
    },
    {
     "data": {
      "image/png": "[encoded data removed]",
      "text/plain": [
       "<Figure size 432x288 with 1 Axes>"
      ]
     },
     "metadata": {
      "needs_background": "light"
     },
     "output_type": "display_data"
    }
   ],
   "source": [
    "plt.imshow(train_images_1[54])\n",
    "print(train_images_1[54])"
   ]
  },
  {
   "cell_type": "code",
   "execution_count": 9,
   "metadata": {},
   "outputs": [],
   "source": [
    "model = tf.keras.models.Sequential([tf.keras.layers.Flatten(),tf.keras.layers.Dense(200, activation = tf.nn.relu), tf.keras.layers.Dense(10, activation = tf.nn.softmax)])"
   ]
  },
  {
   "cell_type": "code",
   "execution_count": 10,
   "metadata": {},
   "outputs": [],
   "source": [
    "model.compile(optimizer = tf.train.AdamOptimizer(),\n",
    "              loss = 'sparse_categorical_crossentropy',\n",
    "              metrics=['accuracy'])"
   ]
  },
  {
   "cell_type": "code",
   "execution_count": 11,
   "metadata": {},
   "outputs": [
    {
     "name": "stdout",
     "output_type": "stream",
     "text": [
      "Epoch 1/20\n",
      "60000/60000 [==============================] - 102s 2ms/step - loss: 0.4885 - acc: 0.8275\n",
      "Epoch 2/20\n",
      "60000/60000 [==============================] - 27s 446us/step - loss: 0.3645 - acc: 0.8676\n",
      "Epoch 3/20\n",
      "60000/60000 [==============================] - 26s 427us/step - loss: 0.3274 - acc: 0.8790\n",
      "Epoch 4/20\n",
      "60000/60000 [==============================] - 25s 418us/step - loss: 0.3029 - acc: 0.8887\n",
      "Epoch 5/20\n",
      "60000/60000 [==============================] - 24s 403us/step - loss: 0.2866 - acc: 0.8933\n",
      "Epoch 6/20\n",
      "60000/60000 [==============================] - 25s 419us/step - loss: 0.2731 - acc: 0.8983\n",
      "Epoch 7/20\n",
      "60000/60000 [==============================] - 25s 419us/step - loss: 0.2592 - acc: 0.9032\n",
      "Epoch 8/20\n",
      "60000/60000 [==============================] - 25s 422us/step - loss: 0.2485 - acc: 0.9071\n",
      "Epoch 9/20\n",
      "60000/60000 [==============================] - 26s 425us/step - loss: 0.2391 - acc: 0.9104\n",
      "Epoch 10/20\n",
      "60000/60000 [==============================] - 28s 466us/step - loss: 0.2307 - acc: 0.9139\n",
      "Epoch 11/20\n",
      "60000/60000 [==============================] - 27s 453us/step - loss: 0.2208 - acc: 0.9178\n",
      "Epoch 12/20\n",
      "60000/60000 [==============================] - 25s 425us/step - loss: 0.2151 - acc: 0.9189\n",
      "Epoch 13/20\n",
      "60000/60000 [==============================] - 28s 459us/step - loss: 0.2081 - acc: 0.9206\n",
      "Epoch 14/20\n",
      "60000/60000 [==============================] - 28s 468us/step - loss: 0.2010 - acc: 0.9244\n",
      "Epoch 15/20\n",
      "60000/60000 [==============================] - 24s 392us/step - loss: 0.1936 - acc: 0.9268\n",
      "Epoch 16/20\n",
      "60000/60000 [==============================] - 25s 424us/step - loss: 0.1876 - acc: 0.9290\n",
      "Epoch 17/20\n",
      "60000/60000 [==============================] - 29s 475us/step - loss: 0.1823 - acc: 0.9302\n",
      "Epoch 18/20\n",
      "60000/60000 [==============================] - 28s 474us/step - loss: 0.1780 - acc: 0.9334\n",
      "Epoch 19/20\n",
      "60000/60000 [==============================] - 27s 444us/step - loss: 0.1730 - acc: 0.9354\n",
      "Epoch 20/20\n",
      "60000/60000 [==============================] - 26s 439us/step - loss: 0.1654 - acc: 0.9366\n"
     ]
    },
    {
     "data": {
      "text/plain": [
       "<tensorflow.python.keras.callbacks.History at 0x7052dd1748>"
      ]
     },
     "execution_count": 11,
     "metadata": {},
     "output_type": "execute_result"
    }
   ],
   "source": [
    "model.fit(train_images_1, train_labels, epochs=20)"
   ]
  },
  {
   "cell_type": "code",
   "execution_count": 12,
   "metadata": {},
   "outputs": [
    {
     "name": "stdout",
     "output_type": "stream",
     "text": [
      "10000/10000 [==============================] - 2s 248us/step\n"
     ]
    },
    {
     "data": {
      "text/plain": [
       "[2.0051833534717503, 0.874]"
      ]
     },
     "execution_count": 12,
     "metadata": {},
     "output_type": "execute_result"
    }
   ],
   "source": [
    "model.evaluate(test_images, test_labels)"
   ]
  },
  {
   "cell_type": "markdown",
   "metadata": {},
   "source": [
    "##### If we see we have got the training accuracy of about 93.66 but where as the testing accuracy of ~87, did we do overfitting !"
   ]
  },
  {
   "cell_type": "markdown",
   "metadata": {},
   "source": [
    "### Lets try another model with few changes to reduce overfitting"
   ]
  },
  {
   "cell_type": "code",
   "execution_count": 13,
   "metadata": {},
   "outputs": [],
   "source": [
    "model2 = tf.keras.models.Sequential([tf.keras.layers.Flatten(),tf.keras.layers.Dense(130, activation = tf.nn.relu), tf.keras.layers.Dense(10, activation = tf.nn.softmax)])"
   ]
  },
  {
   "cell_type": "code",
   "execution_count": 14,
   "metadata": {},
   "outputs": [],
   "source": [
    "model2.compile(optimizer = tf.train.AdamOptimizer(),\n",
    "              loss = 'sparse_categorical_crossentropy',\n",
    "              metrics=['accuracy'])"
   ]
  },
  {
   "cell_type": "code",
   "execution_count": 15,
   "metadata": {},
   "outputs": [
    {
     "name": "stdout",
     "output_type": "stream",
     "text": [
      "Epoch 1/5\n",
      "60000/60000 [==============================] - 26s 438us/step - loss: 0.5034 - acc: 0.82311s - loss: 0.\n",
      "Epoch 2/5\n",
      "60000/60000 [==============================] - 25s 417us/step - loss: 0.3795 - acc: 0.8636\n",
      "Epoch 3/5\n",
      "60000/60000 [==============================] - 26s 432us/step - loss: 0.3410 - acc: 0.8763\n",
      "Epoch 4/5\n",
      "60000/60000 [==============================] - 27s 443us/step - loss: 0.3169 - acc: 0.8843\n",
      "Epoch 5/5\n",
      "60000/60000 [==============================] - 29s 485us/step - loss: 0.2958 - acc: 0.89140s - loss: 0.2961 - acc: \n"
     ]
    },
    {
     "data": {
      "text/plain": [
       "<tensorflow.python.keras.callbacks.History at 0x7053386f28>"
      ]
     },
     "execution_count": 15,
     "metadata": {},
     "output_type": "execute_result"
    }
   ],
   "source": [
    "model2.fit(train_images_1, train_labels, epochs=5)"
   ]
  },
  {
   "cell_type": "code",
   "execution_count": 16,
   "metadata": {},
   "outputs": [
    {
     "name": "stdout",
     "output_type": "stream",
     "text": [
      "10000/10000 [==============================] - 3s 303us/step\n"
     ]
    },
    {
     "data": {
      "text/plain": [
       "[2.0816784120168514, 0.8686]"
      ]
     },
     "execution_count": 16,
     "metadata": {},
     "output_type": "execute_result"
    }
   ],
   "source": [
    "model2.evaluate(test_images, test_labels)"
   ]
  },
  {
   "cell_type": "markdown",
   "metadata": {},
   "source": [
    "### Lets look at the way it does the classification; i.e. the probability distribution for the each case"
   ]
  },
  {
   "cell_type": "code",
   "execution_count": 17,
   "metadata": {},
   "outputs": [
    {
     "name": "stdout",
     "output_type": "stream",
     "text": [
      "[0. 0. 0. 0. 0. 0. 0. 0. 0. 1.]\n"
     ]
    }
   ],
   "source": [
    "classifications = model2.predict(test_images)\n",
    "\n",
    "print(classifications[0])"
   ]
  },
  {
   "cell_type": "code",
   "execution_count": 18,
   "metadata": {},
   "outputs": [
    {
     "name": "stdout",
     "output_type": "stream",
     "text": [
      "9\n"
     ]
    }
   ],
   "source": [
    "print(test_labels[0])"
   ]
  },
  {
   "cell_type": "markdown",
   "metadata": {},
   "source": [
    "### The list represents: The probability that this item is each of the 10 classes"
   ]
  },
  {
   "cell_type": "code",
   "execution_count": null,
   "metadata": {},
   "outputs": [],
   "source": []
  }
 ],
 "metadata": {
  "kernelspec": {
   "display_name": "Python 3",
   "language": "python",
   "name": "python3"
  },
  "language_info": {
   "codemirror_mode": {
    "name": "ipython",
    "version": 3
   },
   "file_extension": ".py",
   "mimetype": "text/x-python",
   "name": "python",
   "nbconvert_exporter": "python",
   "pygments_lexer": "ipython3",
   "version": "3.6.6"
  }
 },
 "nbformat": 4,
 "nbformat_minor": 2
}
